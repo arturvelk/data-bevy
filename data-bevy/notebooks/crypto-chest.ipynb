{
 "cells": [
  {
   "cell_type": "markdown",
   "metadata": {},
   "source": [
    "# Unlockable Chest\n",
    "\n",
    "create a chest that can be unlocked by a string:\n",
    "- an either successful or unsuccessful unlocking attempt takes at least a few seconds, but does not eat up memory\n",
    "- another string is retreived when unlocked (a random string if unsuccessful)"
   ]
  },
  {
   "cell_type": "code",
   "execution_count": 1,
   "metadata": {},
   "outputs": [],
   "source": [
    "import hashlib\n",
    "import heapq\n",
    "from dataclasses import dataclass"
   ]
  },
  {
   "cell_type": "code",
   "execution_count": 2,
   "metadata": {},
   "outputs": [],
   "source": [
    "DEFAULT_ITERS = 2_000_000\n",
    "DEFAULT_LIMIT = 2000\n",
    "\n",
    "\n",
    "@dataclass\n",
    "class Chest:\n",
    "    places: list\n",
    "    iter_count: int = DEFAULT_ITERS\n",
    "    hex_limit: int = DEFAULT_LIMIT\n",
    "\n",
    "    def unlock(self, key):\n",
    "        hexes = get_hexes(self.iter_count, self.hex_limit, key)\n",
    "        out = \"\"\n",
    "        for h_ind, sl, sr in self.places:\n",
    "            out += chr(int(hexes[h_ind][sl:sr], base=16))\n",
    "        return out\n",
    "\n",
    "    @classmethod\n",
    "    def create_chest(\n",
    "        cls, key, secret, iter_count=DEFAULT_ITERS, hex_limit=DEFAULT_LIMIT\n",
    "    ):\n",
    "        secret_ord = [hex(ord(c))[2:] for c in secret]\n",
    "        hexes = get_hexes(iter_count, hex_limit, key)\n",
    "        places = []\n",
    "        letter_ind = 0\n",
    "        for h_ind, h in enumerate(hexes):\n",
    "            try:\n",
    "                letter_ord = secret_ord[letter_ind]\n",
    "            except IndexError:\n",
    "                break\n",
    "            try:\n",
    "                sub_ind = h.index(letter_ord)\n",
    "            except ValueError:\n",
    "                continue\n",
    "            places.append((h_ind, sub_ind, sub_ind + len(letter_ord)))\n",
    "            letter_ind += 1\n",
    "        else:\n",
    "            raise ValueError(\"Too few iterations\")\n",
    "        return cls(places, iter_count)\n",
    "\n",
    "\n",
    "def get_hexes(iter_count, limit, key):\n",
    "    hm5 = hashlib.md5(key.lower().encode(\"utf-8\"))\n",
    "    hexes = []\n",
    "    for _ in range(iter_count):\n",
    "        hm5.update(hm5.hexdigest().encode(\"utf-8\"))\n",
    "        new_hex = hm5.hexdigest()\n",
    "        (heapq.heappush if len(hexes) < limit else heapq.heappushpop)(hexes, new_hex)\n",
    "    return [h[-10:] for h in sorted(hexes)]"
   ]
  },
  {
   "cell_type": "code",
   "execution_count": 3,
   "metadata": {},
   "outputs": [],
   "source": [
    "chest = Chest.create_chest(\"abcd\", \"Something Cool\")"
   ]
  },
  {
   "cell_type": "code",
   "execution_count": 6,
   "metadata": {},
   "outputs": [
    {
     "data": {
      "text/plain": [
       "Chest(places=[(44, 7, 9), (54, 2, 4), (63, 8, 10), (88, 5, 7), (107, 3, 5), (116, 3, 5), (143, 8, 10), (144, 7, 9), (194, 1, 3), (199, 0, 2), (209, 0, 2), (226, 1, 3), (280, 5, 7), (292, 5, 7)], iter_count=2000000, hex_limit=2000)"
      ]
     },
     "execution_count": 6,
     "metadata": {},
     "output_type": "execute_result"
    }
   ],
   "source": [
    "chest"
   ]
  },
  {
   "cell_type": "code",
   "execution_count": 4,
   "metadata": {},
   "outputs": [
    {
     "data": {
      "text/plain": [
       "'\\re\\xa0Ífo\\x9e\\x0b\\x86Ô\\x93\\x06$Ý'"
      ]
     },
     "execution_count": 4,
     "metadata": {},
     "output_type": "execute_result"
    }
   ],
   "source": [
    "chest.unlock(\"XYZ\")"
   ]
  },
  {
   "cell_type": "code",
   "execution_count": 5,
   "metadata": {},
   "outputs": [
    {
     "data": {
      "text/plain": [
       "'Something Cool'"
      ]
     },
     "execution_count": 5,
     "metadata": {},
     "output_type": "execute_result"
    }
   ],
   "source": [
    "chest.unlock(\"abcd\")"
   ]
  }
 ],
 "metadata": {
  "kernelspec": {
   "display_name": "Python 3",
   "language": "python",
   "name": "python3"
  },
  "language_info": {
   "codemirror_mode": {
    "name": "ipython",
    "version": 3
   },
   "file_extension": ".py",
   "mimetype": "text/x-python",
   "name": "python",
   "nbconvert_exporter": "python",
   "pygments_lexer": "ipython3",
   "version": "3.8.10"
  }
 },
 "nbformat": 4,
 "nbformat_minor": 2
}
