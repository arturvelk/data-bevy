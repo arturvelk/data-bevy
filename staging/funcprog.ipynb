{
 "cells": [
  {
   "cell_type": "markdown",
   "metadata": {},
   "source": [
    "# Lambda Calculus with Python\n",
    "\n",
    "## Rules\n",
    "\n",
    "### What we have:\n",
    "\n",
    "- constructing functions:\n",
    "```python \n",
    "lambda x: x\n",
    "```\n",
    "- calling functions:\n",
    "```python \n",
    "(lambda x,y: x)(a,b)\n",
    "```\n",
    "\n",
    "- to make it simpler, we name functions, but never use them recursively\n",
    "```python \n",
    "f = lambda x,y: x\n",
    "f(a,b)\n",
    "```\n",
    "\n",
    "- absolutely nothing else\n",
    "\n",
    "### What we don't have (for example):\n",
    "\n",
    "- numbers/strings\n",
    "- methods for numbers or string\n",
    "- data, variables/constants\n",
    "- flow control - if / while / for\n",
    "\n",
    "\n",
    "### Inspector functions\n",
    "\n",
    "Functions with a name ending with underscore, eg `church_value_` don't abide by these rules, but are there to help make sense of what's happening. We need to construct everything out of the lambda functions, but we can observe them with these."
   ]
  },
  {
   "cell_type": "markdown",
   "metadata": {},
   "source": [
    "## Church Numerals"
   ]
  },
  {
   "cell_type": "code",
   "execution_count": 1,
   "metadata": {},
   "outputs": [],
   "source": [
    "def church_value_(cn):\n",
    "    return cn(lambda x: x + 1, 0)"
   ]
  },
  {
   "cell_type": "code",
   "execution_count": 2,
   "metadata": {},
   "outputs": [],
   "source": [
    "ZERO = lambda f, x: x\n",
    "ONE = lambda f, x: f(x)\n",
    "TWO = lambda f, x: f(f(x))"
   ]
  },
  {
   "cell_type": "code",
   "execution_count": 3,
   "metadata": {},
   "outputs": [],
   "source": [
    "successor = lambda n: (lambda f, x: n(f, f(x)))"
   ]
  },
  {
   "cell_type": "code",
   "execution_count": 4,
   "metadata": {},
   "outputs": [],
   "source": [
    "THREE = successor(TWO)"
   ]
  },
  {
   "cell_type": "code",
   "execution_count": 5,
   "metadata": {},
   "outputs": [],
   "source": [
    "add = lambda a, b: (lambda f, x: a(f, b(f, x)))"
   ]
  },
  {
   "cell_type": "code",
   "execution_count": 6,
   "metadata": {},
   "outputs": [],
   "source": [
    "FIVE = add(THREE, TWO)"
   ]
  },
  {
   "cell_type": "code",
   "execution_count": 7,
   "metadata": {},
   "outputs": [],
   "source": [
    "multiply = lambda a, b: a(lambda x: add(b, x), ZERO)"
   ]
  },
  {
   "cell_type": "code",
   "execution_count": 8,
   "metadata": {},
   "outputs": [],
   "source": [
    "SIX = multiply(TWO, THREE)"
   ]
  },
  {
   "cell_type": "code",
   "execution_count": 9,
   "metadata": {},
   "outputs": [],
   "source": [
    "TWELVE = multiply(SIX, TWO)"
   ]
  },
  {
   "cell_type": "code",
   "execution_count": 10,
   "metadata": {},
   "outputs": [],
   "source": [
    "THIRTY_SIX = multiply(SIX, SIX)"
   ]
  },
  {
   "cell_type": "code",
   "execution_count": 11,
   "metadata": {},
   "outputs": [
    {
     "data": {
      "text/plain": [
       "(0, 2, 6, 36)"
      ]
     },
     "execution_count": 11,
     "metadata": {},
     "output_type": "execute_result"
    }
   ],
   "source": [
    "# Looksie\n",
    "church_value_(ZERO), church_value_(TWO), church_value_(SIX), church_value_(THIRTY_SIX)"
   ]
  },
  {
   "cell_type": "markdown",
   "metadata": {},
   "source": [
    "### Array - Like"
   ]
  },
  {
   "cell_type": "code",
   "execution_count": 12,
   "metadata": {},
   "outputs": [],
   "source": [
    "PAIR_53 = lambda i: i(lambda x: THREE, FIVE)"
   ]
  },
  {
   "cell_type": "code",
   "execution_count": 13,
   "metadata": {},
   "outputs": [
    {
     "data": {
      "text/plain": [
       "(5, 3)"
      ]
     },
     "execution_count": 13,
     "metadata": {},
     "output_type": "execute_result"
    }
   ],
   "source": [
    "church_value_(PAIR_53(ZERO)), church_value_(PAIR_53(ONE))"
   ]
  },
  {
   "cell_type": "code",
   "execution_count": 14,
   "metadata": {},
   "outputs": [],
   "source": [
    "shift = lambda f, p: (lambda i: i(lambda x: f(p(ONE)), p(ONE)))"
   ]
  },
  {
   "cell_type": "code",
   "execution_count": 15,
   "metadata": {},
   "outputs": [],
   "source": [
    "PAIR_00 = lambda i: i(lambda x: ZERO, ZERO)"
   ]
  },
  {
   "cell_type": "code",
   "execution_count": 16,
   "metadata": {},
   "outputs": [],
   "source": [
    "minus_one = lambda a: a(lambda x: shift(successor, x), PAIR_00)(ZERO)"
   ]
  },
  {
   "cell_type": "code",
   "execution_count": 17,
   "metadata": {},
   "outputs": [],
   "source": [
    "ELEVEN = minus_one(TWELVE)"
   ]
  },
  {
   "cell_type": "code",
   "execution_count": 18,
   "metadata": {},
   "outputs": [],
   "source": [
    "minus = lambda a, b: b(minus_one, a)  # a - b"
   ]
  },
  {
   "cell_type": "code",
   "execution_count": 19,
   "metadata": {},
   "outputs": [],
   "source": [
    "SEVEN = minus(TWELVE, FIVE)"
   ]
  },
  {
   "cell_type": "code",
   "execution_count": 20,
   "metadata": {},
   "outputs": [
    {
     "data": {
      "text/plain": [
       "(11, 7)"
      ]
     },
     "execution_count": 20,
     "metadata": {},
     "output_type": "execute_result"
    }
   ],
   "source": [
    "church_value_(ELEVEN), church_value_(SEVEN)"
   ]
  },
  {
   "cell_type": "code",
   "execution_count": 21,
   "metadata": {},
   "outputs": [],
   "source": [
    "insert_beg = lambda l, e: lambda i: i(lambda x: l, e)"
   ]
  },
  {
   "cell_type": "code",
   "execution_count": 22,
   "metadata": {},
   "outputs": [],
   "source": [
    "LIST_253 = insert_beg(PAIR_53, TWO)"
   ]
  },
  {
   "cell_type": "code",
   "execution_count": 23,
   "metadata": {},
   "outputs": [],
   "source": [
    "LIST_6253 = insert_beg(LIST_253, SIX)"
   ]
  },
  {
   "cell_type": "code",
   "execution_count": 24,
   "metadata": {},
   "outputs": [],
   "source": [
    "LIST_26253 = insert_beg(LIST_6253, TWO)"
   ]
  },
  {
   "cell_type": "code",
   "execution_count": 25,
   "metadata": {},
   "outputs": [
    {
     "data": {
      "text/plain": [
       "(2, 5, 3)"
      ]
     },
     "execution_count": 25,
     "metadata": {},
     "output_type": "execute_result"
    }
   ],
   "source": [
    "church_value_(LIST_253(ZERO)), church_value_(LIST_253(ONE)(ZERO)), church_value_(LIST_253(ONE)(ONE))"
   ]
  },
  {
   "cell_type": "code",
   "execution_count": 26,
   "metadata": {},
   "outputs": [],
   "source": [
    "def array_value_(arr):\n",
    "    pyl = []\n",
    "    while True:\n",
    "        try:\n",
    "            e = arr(ZERO)\n",
    "        except TypeError:\n",
    "            pyl.append(church_value_(arr))\n",
    "            break\n",
    "        pyl.append(church_value_(e))\n",
    "        arr = arr(ONE)\n",
    "\n",
    "    return pyl"
   ]
  },
  {
   "cell_type": "code",
   "execution_count": 27,
   "metadata": {},
   "outputs": [
    {
     "data": {
      "text/plain": [
       "[2, 6, 2, 5, 3]"
      ]
     },
     "execution_count": 27,
     "metadata": {},
     "output_type": "execute_result"
    }
   ],
   "source": [
    "array_value_(LIST_26253)"
   ]
  },
  {
   "cell_type": "code",
   "execution_count": 28,
   "metadata": {},
   "outputs": [],
   "source": [
    "index_list = lambda l, i: i(lambda x: x(ONE), l)(ZERO)"
   ]
  },
  {
   "cell_type": "code",
   "execution_count": 29,
   "metadata": {},
   "outputs": [
    {
     "data": {
      "text/plain": [
       "[6, 2, 5]"
      ]
     },
     "execution_count": 29,
     "metadata": {},
     "output_type": "execute_result"
    }
   ],
   "source": [
    "[church_value_(index_list(LIST_6253, i)) for i in [ZERO, ONE, TWO]]  # last one does not work"
   ]
  },
  {
   "cell_type": "code",
   "execution_count": 30,
   "metadata": {},
   "outputs": [],
   "source": [
    "FOUR = add(ONE, THREE)"
   ]
  },
  {
   "cell_type": "code",
   "execution_count": 31,
   "metadata": {},
   "outputs": [],
   "source": [
    "fibshift = lambda p: shift(lambda x: add(x, p(ZERO)), p)"
   ]
  },
  {
   "cell_type": "code",
   "execution_count": 32,
   "metadata": {},
   "outputs": [],
   "source": [
    "PAIR_01 = lambda i: i(lambda x: ONE, ZERO)"
   ]
  },
  {
   "cell_type": "code",
   "execution_count": 33,
   "metadata": {},
   "outputs": [],
   "source": [
    "fibn = lambda n: n(fibshift, PAIR_01)(ZERO)"
   ]
  },
  {
   "cell_type": "code",
   "execution_count": 34,
   "metadata": {},
   "outputs": [
    {
     "data": {
      "text/plain": [
       "[0, 1, 1, 2, 3, 5, 8, 13]"
      ]
     },
     "execution_count": 34,
     "metadata": {},
     "output_type": "execute_result"
    }
   ],
   "source": [
    "[church_value_(fibn(x)) for x in [ZERO, ONE, TWO, THREE, FOUR, FIVE, SIX, SEVEN]]"
   ]
  }
 ],
 "metadata": {
  "kernelspec": {
   "display_name": "Python 3",
   "language": "python",
   "name": "python3"
  },
  "language_info": {
   "codemirror_mode": {
    "name": "ipython",
    "version": 3
   },
   "file_extension": ".py",
   "mimetype": "text/x-python",
   "name": "python",
   "nbconvert_exporter": "python",
   "pygments_lexer": "ipython3",
   "version": "3.8.10"
  }
 },
 "nbformat": 4,
 "nbformat_minor": 2
}
