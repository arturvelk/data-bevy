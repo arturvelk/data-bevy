{
 "cells": [
  {
   "cell_type": "code",
   "execution_count": 1,
   "id": "revolutionary-contrast",
   "metadata": {},
   "outputs": [],
   "source": [
    "import re\n",
    "import tempfile\n",
    "import urllib\n",
    "import webbrowser\n",
    "from pathlib import Path\n",
    "\n",
    "import sqlalchemy as sa\n",
    "\n",
    "\n",
    "def get_mermaid(constr):\n",
    "    engine = sa.create_engine(constr)\n",
    "    meta = sa.MetaData(bind=engine)\n",
    "    sa.MetaData.reflect(meta)\n",
    "    nodes = [to_mermaid_node(table) for table in meta.tables.values()]\n",
    "\n",
    "    edge_fstr = '%s ||--|{ %s : \"%s\"'\n",
    "    edges = []\n",
    "    for table_id, table in meta.tables.items():\n",
    "        for fk in table.foreign_keys:\n",
    "            col = fk.column\n",
    "            edges.append(edge_fstr % (table_id, col.table.fullname, fk.parent.name))\n",
    "    return \"\\n  \".join([\"erDiagram\", *nodes, *edges])\n",
    "\n",
    "\n",
    "def to_mermaid_node(table: sa.Table):\n",
    "    pks = set([c.name for c in table.primary_key.columns])\n",
    "    ind_dic = {i.name: [c.name for c in i.columns] for i in table.indexes}\n",
    "    fks = set([fk.parent.name for fk in table.foreign_keys])\n",
    "    cols = []\n",
    "    for col in table.columns:\n",
    "        cn = col.name\n",
    "        extra = \"PK\" if cn in pks else (\"FK\" if cn in fks else \"\")\n",
    "        in_inds = [k for k, v in ind_dic.items() if cn in v]\n",
    "        if in_inds:\n",
    "            comm = f'\"in index: {\", \".join(in_inds)}\"'\n",
    "        else:\n",
    "            comm = \"\"\n",
    "        cols.append(\" \".join([\"   \", format_col_type(col), cn, extra, comm]))\n",
    "    head = table.fullname + \" {\"\n",
    "    return \"    \\n\".join([head, *cols]) + \"\\n  }\"\n",
    "\n",
    "\n",
    "def format_col_type(col):\n",
    "    try:\n",
    "        out = col.type.get_col_spec()\n",
    "    except (AttributeError, NotImplementedError):\n",
    "        out = str(col.type)\n",
    "    return re.sub(r\"\\((\\d+)\\)\", lambda m: \"-\" + m.groups()[0], out)\n",
    "\n",
    "\n",
    "def to_file(constr: str, output_fp: str):\n",
    "    out_path = Path(output_fp)\n",
    "    try:\n",
    "        frame = frame_dic[out_path.suffix]\n",
    "    except KeyError:\n",
    "        raise ValueError(f\"extension not in {frame_dic.keys()}\")\n",
    "\n",
    "    out_path.write_text(frame % get_mermaid(constr))\n",
    "\n",
    "\n",
    "def open_in_browser(constr):\n",
    "    output_file = tempfile.NamedTemporaryFile(suffix=\".html\", delete=False)\n",
    "    to_file(output_file)\n",
    "    url = urllib.parse.urlunparse((\"file\", \"\", output_file.name, \"\", \"\", \"\"))\n",
    "    webbrowser.open(url)\n",
    "\n",
    "\n",
    "html_frame = \"\"\"\n",
    "<html>\n",
    "    <body>\n",
    "        <script src=\"https://cdn.jsdelivr.net/npm/mermaid/dist/mermaid.min.js\"></script>\n",
    "        <script>\n",
    "            mermaid.initialize({ startOnLoad: true });\n",
    "        </script>\n",
    "\n",
    "        <h1>EDR</h1>\n",
    "        <div class=\"mermaid\">\n",
    "%s\n",
    "        </div>\n",
    "    </body>\n",
    "</html>\n",
    "\"\"\"\n",
    "\n",
    "\n",
    "md_frame = \"\"\"\n",
    "\n",
    "```mermaid\n",
    "%s\n",
    "```\n",
    "\n",
    "\"\"\"\n",
    "\n",
    "frame_dic = {\".html\": html_frame, \".md\": md_frame}"
   ]
  },
  {
   "cell_type": "code",
   "execution_count": 2,
   "id": "optimum-trinidad",
   "metadata": {},
   "outputs": [],
   "source": [
    "import sqlalchemy as sa\n",
    "\n",
    "# from sqlmermaid import open_in_browser, get_mermaid\n",
    "\n",
    "\n",
    "metadata_obj = sa.MetaData()"
   ]
  },
  {
   "cell_type": "code",
   "execution_count": 3,
   "id": "raised-castle",
   "metadata": {},
   "outputs": [],
   "source": [
    "user = sa.Table(\n",
    "    \"user\",\n",
    "    metadata_obj,\n",
    "    sa.Column(\"user_id\", sa.Integer, primary_key=True),\n",
    "    sa.Column(\"user_name\", sa.String(16), nullable=False),\n",
    "    sa.Column(\"email_address\", sa.String(60)),\n",
    "    sa.Column(\"nickname\", sa.String(50), nullable=False),\n",
    ")"
   ]
  },
  {
   "cell_type": "code",
   "execution_count": 4,
   "id": "joint-lying",
   "metadata": {},
   "outputs": [],
   "source": [
    "departments = sa.Table(\n",
    "    \"departments\",\n",
    "    metadata_obj,\n",
    "    sa.Column(\"department_id\", sa.Integer, primary_key=True),\n",
    "    sa.Column(\"department_name\", sa.String(60), nullable=False),\n",
    ")"
   ]
  },
  {
   "cell_type": "code",
   "execution_count": 5,
   "id": "southern-princeton",
   "metadata": {},
   "outputs": [],
   "source": [
    "employees = sa.Table(\n",
    "    \"employees\",\n",
    "    metadata_obj,\n",
    "    sa.Column(\"employee_id\", sa.Integer, primary_key=True),\n",
    "    sa.Column(\"employee_name\", sa.String(60), nullable=False),\n",
    "    sa.Column(\"employee_dept\", sa.Integer, sa.ForeignKey(\"departments.department_id\")),\n",
    ")"
   ]
  },
  {
   "cell_type": "code",
   "execution_count": 6,
   "id": "pursuant-thousand",
   "metadata": {},
   "outputs": [],
   "source": [
    "user_complaints = sa.Table(\n",
    "    \"complaints\",\n",
    "    metadata_obj,\n",
    "    sa.Column(\"about_dept\", sa.Integer, sa.ForeignKey(\"departments.department_id\")),\n",
    "    sa.Column(\"by_user\", sa.Integer, sa.ForeignKey(\"user.user_id\")),\n",
    "    sa.Column(\"at_time\", sa.DateTime),\n",
    "    sa.Column(\"text\", sa.String(500)),\n",
    "    sa.Index(\"comp_ind\", \"text\"),\n",
    ")"
   ]
  },
  {
   "cell_type": "code",
   "execution_count": 9,
   "id": "tired-smell",
   "metadata": {},
   "outputs": [],
   "source": [
    "constr = \"sqlite:///db.sqlite\"  # \"sqlite:///:memory:\"\n",
    "engine = sa.create_engine(constr)\n",
    "metadata_obj.create_all(engine)"
   ]
  },
  {
   "cell_type": "code",
   "execution_count": 11,
   "id": "complicated-daniel",
   "metadata": {},
   "outputs": [
    {
     "name": "stdout",
     "output_type": "stream",
     "text": [
      "erDiagram\n",
      "  complaints {    \n",
      "    INTEGER about_dept FK     \n",
      "    INTEGER by_user FK     \n",
      "    DATETIME at_time      \n",
      "    VARCHAR-500 text  \"in index: comp_ind\"\n",
      "  }\n",
      "  departments {    \n",
      "    INTEGER department_id PK     \n",
      "    VARCHAR-60 department_name  \n",
      "  }\n",
      "  user {    \n",
      "    INTEGER user_id PK     \n",
      "    VARCHAR-16 user_name      \n",
      "    VARCHAR-60 email_address      \n",
      "    VARCHAR-50 nickname  \n",
      "  }\n",
      "  employees {    \n",
      "    INTEGER employee_id PK     \n",
      "    VARCHAR-60 employee_name      \n",
      "    INTEGER employee_dept FK \n",
      "  }\n",
      "  complaints ||--|{ departments : \"about_dept\"\n",
      "  complaints ||--|{ user : \"by_user\"\n",
      "  employees ||--|{ departments : \"employee_dept\"\n"
     ]
    }
   ],
   "source": [
    "print(get_mermaid(constr))"
   ]
  },
  {
   "cell_type": "code",
   "execution_count": 12,
   "id": "wicked-process",
   "metadata": {},
   "outputs": [],
   "source": [
    "Path(\"db.sqlite\").unlink()"
   ]
  }
 ],
 "metadata": {
  "kernelspec": {
   "display_name": "Python 3",
   "language": "python",
   "name": "python3"
  },
  "language_info": {
   "codemirror_mode": {
    "name": "ipython",
    "version": 3
   },
   "file_extension": ".py",
   "mimetype": "text/x-python",
   "name": "python",
   "nbconvert_exporter": "python",
   "pygments_lexer": "ipython3",
   "version": "3.8.10"
  }
 },
 "nbformat": 4,
 "nbformat_minor": 5
}
