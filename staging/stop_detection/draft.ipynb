{
 "cells": [
  {
   "cell_type": "code",
   "execution_count": null,
   "id": "horizontal-durham",
   "metadata": {},
   "outputs": [],
   "source": [
    "# https://takeout.google.com/"
   ]
  },
  {
   "cell_type": "code",
   "execution_count": null,
   "id": "caring-retirement",
   "metadata": {},
   "outputs": [],
   "source": [
    "import pandas as pd\n",
    "\n",
    "from colassigner import get_all_cols\n",
    "from infostop import Infostop\n",
    "from sklearn.preprocessing import StandardScaler\n",
    "from sklearn.neighbors import KDTree\n",
    "\n",
    "from export_data import dump_data, parse_ping_df, parse_sem_df\n",
    "from stops import DaySetup, PingFeatures, proc_device_pings, StopFeatures"
   ]
  },
  {
   "cell_type": "code",
   "execution_count": null,
   "id": "complete-fiber",
   "metadata": {},
   "outputs": [],
   "source": [
    "# dump_data(\"takeout-20220326T104444Z-001.zip\")"
   ]
  },
  {
   "cell_type": "code",
   "execution_count": null,
   "id": "based-italy",
   "metadata": {},
   "outputs": [],
   "source": [
    "raw_ping_df = pd.read_parquet(\"pings.parquet\").assign()\n",
    "raw_ping_df.shape"
   ]
  },
  {
   "cell_type": "code",
   "execution_count": null,
   "id": "knowing-firewall",
   "metadata": {},
   "outputs": [],
   "source": [
    "raw_ping_df.loc[:, lambda df: df.isna().mean() < 0.5].head()"
   ]
  },
  {
   "cell_type": "code",
   "execution_count": null,
   "id": "potential-bouquet",
   "metadata": {},
   "outputs": [],
   "source": [
    "raw_semantic_df = pd.read_parquet(\"semantic.parquet\")\n",
    "raw_semantic_df.shape"
   ]
  },
  {
   "cell_type": "code",
   "execution_count": null,
   "id": "prompt-yeast",
   "metadata": {},
   "outputs": [],
   "source": [
    "raw_semantic_df.head().T"
   ]
  },
  {
   "cell_type": "code",
   "execution_count": null,
   "id": "contrary-allergy",
   "metadata": {},
   "outputs": [],
   "source": [
    "semantic_df = parse_sem_df(raw_semantic_df.sort_values(\"startTimestamp\"))\n",
    "ping_df = parse_ping_df(raw_ping_df)"
   ]
  },
  {
   "cell_type": "code",
   "execution_count": null,
   "id": "5887a819",
   "metadata": {},
   "outputs": [],
   "source": [
    "semantic_df.head().T"
   ]
  },
  {
   "cell_type": "code",
   "execution_count": null,
   "id": "5b8d002e",
   "metadata": {},
   "outputs": [],
   "source": [
    "ping_df.head()"
   ]
  },
  {
   "cell_type": "code",
   "execution_count": null,
   "id": "endangered-newspaper",
   "metadata": {},
   "outputs": [],
   "source": [
    "ping_df[PingFeatures.datetime].diff().describe()"
   ]
  },
  {
   "cell_type": "code",
   "execution_count": null,
   "id": "introductory-fashion",
   "metadata": {},
   "outputs": [],
   "source": [
    "def get_career(df):\n",
    "    return (\n",
    "        df.loc[\n",
    "            lambda df: df[[StopFeatures.is_home, StopFeatures.is_work]].any(axis=1), :\n",
    "        ]\n",
    "        .assign(sdate=lambda df: df[StopFeatures.interval.start].astype(str).str[:10])\n",
    "        .groupby([StopFeatures.is_work, StopFeatures.destination_label])\n",
    "        .agg(\n",
    "            place=pd.NamedAgg(StopFeatures.info, \"first\"),\n",
    "            start=pd.NamedAgg(\"sdate\", \"min\"),\n",
    "            end=pd.NamedAgg(\"sdate\", \"max\"),\n",
    "            count=pd.NamedAgg(\"sdate\", \"count\"),\n",
    "        )\n",
    "        .reset_index()\n",
    "        .drop(StopFeatures.destination_label, axis=1)\n",
    "        .sort_values([\"is_work\", \"end\"])\n",
    "    )"
   ]
  },
  {
   "cell_type": "code",
   "execution_count": null,
   "id": "chinese-optimization",
   "metadata": {},
   "outputs": [],
   "source": [
    "get_career(semantic_df)"
   ]
  },
  {
   "cell_type": "code",
   "execution_count": null,
   "id": "operating-spoke",
   "metadata": {},
   "outputs": [],
   "source": [
    "semantic_df.dropna(subset=[StopFeatures.info]).loc[lambda df: df[StopFeatures.info].str.contains(\"Pilis\"), :]"
   ]
  },
  {
   "cell_type": "code",
   "execution_count": null,
   "id": "signed-sweet",
   "metadata": {},
   "outputs": [],
   "source": [
    "(\n",
    "    semantic_df.loc[\n",
    "        lambda df: df[StopFeatures.destination_label] == \"ChIJi_oEmDN6akcRb4fM_7BFGR8\",\n",
    "        :,\n",
    "    ]\n",
    "    .assign(\n",
    "        count=1,\n",
    "        days=lambda df: (\n",
    "            df[StopFeatures.interval.end] - df[StopFeatures.interval.start]\n",
    "        ).dt.total_seconds()\n",
    "        / 60 ** 2 / 24,\n",
    "    )\n",
    "    .set_index(StopFeatures.interval.start)\n",
    "    .resample(\"1M\")[[\"count\", \"days\"]].sum()\n",
    "    .plot(figsize=(14, 7))\n",
    ")"
   ]
  },
  {
   "cell_type": "code",
   "execution_count": null,
   "id": "casual-culture",
   "metadata": {},
   "outputs": [],
   "source": [
    "train_ping_df = ping_df.loc[\n",
    "    lambda df: df[PingFeatures.datetime].dt.year == 2016, :\n",
    "].loc[lambda df: (df[get_all_cols(PingFeatures.loc)].abs() < 90).all(axis=1), :]"
   ]
  },
  {
   "cell_type": "code",
   "execution_count": null,
   "id": "electronic-currency",
   "metadata": {},
   "outputs": [],
   "source": [
    "r1 = 40\n",
    "r2 = 120\n",
    "min_staying_time = 300\n",
    "max_time_between = 24 * 60 * 60\n",
    "min_size = 2\n",
    "\n",
    "\n",
    "work_start = 9\n",
    "work_end = 17\n",
    "home_arrive = 20\n",
    "home_depart = 8\n",
    "\n",
    "\n",
    "model = Infostop(\n",
    "    r1=r1,\n",
    "    r2=r2,\n",
    "    min_staying_time=min_staying_time,\n",
    "    max_time_between=max_time_between,\n",
    "    min_size=min_size,\n",
    ")\n",
    "\n",
    "dayconf = DaySetup(work_start, work_end, home_arrive, home_depart)\n"
   ]
  },
  {
   "cell_type": "code",
   "execution_count": null,
   "id": "suited-person",
   "metadata": {},
   "outputs": [],
   "source": [
    "out_df = proc_device_pings(train_ping_df, model, dayconf)"
   ]
  },
  {
   "cell_type": "code",
   "execution_count": null,
   "id": "official-entry",
   "metadata": {},
   "outputs": [],
   "source": [
    "out_df"
   ]
  },
  {
   "cell_type": "code",
   "execution_count": null,
   "id": "designing-champagne",
   "metadata": {},
   "outputs": [],
   "source": [
    "sem_locs = semantic_df.groupby(StopFeatures.info)[get_all_cols(StopFeatures.center)].mean()"
   ]
  },
  {
   "cell_type": "code",
   "execution_count": null,
   "id": "hidden-brook",
   "metadata": {},
   "outputs": [],
   "source": [
    "sem_locs"
   ]
  },
  {
   "cell_type": "code",
   "execution_count": null,
   "id": "pharmaceutical-condition",
   "metadata": {},
   "outputs": [],
   "source": [
    "place_df = out_df.loc[lambda df: df[StopFeatures.destination_label] != \"-1\",].assign(\n",
    "    info=lambda df: df.groupby(StopFeatures.destination_label)[\n",
    "        get_all_cols(StopFeatures.center)\n",
    "    ]\n",
    "    .mean()\n",
    "    .assign(\n",
    "        sem_address=lambda _df: [\n",
    "            ((sem_locs - row.values.reshape(1, -1)) ** 2).sum(axis=1).idxmin()\n",
    "            for i, row in _df.iterrows()\n",
    "        ]\n",
    "    )\n",
    "    .loc[:, \"sem_address\"]\n",
    "    .reindex(df[StopFeatures.destination_label].values)\n",
    "    .values\n",
    ")"
   ]
  },
  {
   "cell_type": "code",
   "execution_count": null,
   "id": "comprehensive-improvement",
   "metadata": {},
   "outputs": [],
   "source": [
    "place_df"
   ]
  },
  {
   "cell_type": "code",
   "execution_count": null,
   "id": "bae8a8f1",
   "metadata": {},
   "outputs": [],
   "source": [
    "place_df"
   ]
  },
  {
   "cell_type": "code",
   "execution_count": null,
   "id": "comprehensive-packaging",
   "metadata": {
    "scrolled": true
   },
   "outputs": [],
   "source": [
    "get_career(place_df)"
   ]
  },
  {
   "cell_type": "code",
   "execution_count": null,
   "id": "extra-minutes",
   "metadata": {},
   "outputs": [],
   "source": [
    "# https://www.mapequation.org/infomap/"
   ]
  }
 ],
 "metadata": {
  "kernelspec": {
   "display_name": "Python 3",
   "language": "python",
   "name": "python3"
  },
  "language_info": {
   "codemirror_mode": {
    "name": "ipython",
    "version": 3
   },
   "file_extension": ".py",
   "mimetype": "text/x-python",
   "name": "python",
   "nbconvert_exporter": "python",
   "pygments_lexer": "ipython3",
   "version": "3.8.10"
  }
 },
 "nbformat": 4,
 "nbformat_minor": 5
}
