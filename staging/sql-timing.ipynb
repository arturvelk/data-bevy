{
 "cells": [
  {
   "cell_type": "code",
   "execution_count": null,
   "id": "serial-terrace",
   "metadata": {},
   "outputs": [],
   "source": [
    "from itertools import groupby\n",
    "from pathlib import Path\n",
    "from time import time\n",
    "\n",
    "import numpy as np\n",
    "import pandas as pd\n",
    "import sqlalchemy as sa\n",
    "\n",
    "\n",
    "from faker import Faker\n",
    "from tqdm.notebook import tqdm"
   ]
  },
  {
   "cell_type": "code",
   "execution_count": null,
   "id": "pursuant-moral",
   "metadata": {},
   "outputs": [],
   "source": [
    "db_file = Path(\"db.sqlite\")\n",
    "db_file.unlink(missing_ok=True)"
   ]
  },
  {
   "cell_type": "code",
   "execution_count": null,
   "id": "optimum-trinidad",
   "metadata": {},
   "outputs": [],
   "source": [
    "constr = f\"sqlite:///{db_file}\"\n",
    "engine = sa.create_engine(constr, echo=True)\n",
    "metadata_obj = sa.MetaData()"
   ]
  },
  {
   "cell_type": "code",
   "execution_count": null,
   "id": "average-mexican",
   "metadata": {},
   "outputs": [],
   "source": [
    "user = sa.Table(\n",
    "    \"user\",\n",
    "    metadata_obj,\n",
    "    sa.Column(\"user_id\", sa.Integer, primary_key=True),\n",
    "    sa.Column(\"user_name\", sa.String(16), nullable=False),\n",
    "    sa.Column(\"email_address\", sa.String(60)),\n",
    "    sa.Column(\"height\", sa.Float),\n",
    "    sa.Column(\"blood_type\", sa.String(2)),\n",
    ")"
   ]
  },
  {
   "cell_type": "code",
   "execution_count": null,
   "id": "challenging-gathering",
   "metadata": {},
   "outputs": [],
   "source": [
    "metadata_obj.create_all(engine)"
   ]
  },
  {
   "cell_type": "code",
   "execution_count": null,
   "id": "verbal-aggregate",
   "metadata": {},
   "outputs": [],
   "source": [
    "ins = user.insert(values=[(1, \"someone\", \"e@b.com\", 123.1, \"AB\")])"
   ]
  },
  {
   "cell_type": "code",
   "execution_count": null,
   "id": "accessory-oriental",
   "metadata": {},
   "outputs": [],
   "source": [
    "engine.execute(ins)"
   ]
  },
  {
   "cell_type": "code",
   "execution_count": null,
   "id": "liberal-lancaster",
   "metadata": {},
   "outputs": [],
   "source": [
    "pd.read_sql(\"SELECT * FROM user\", con=constr)"
   ]
  },
  {
   "cell_type": "code",
   "execution_count": null,
   "id": "contained-current",
   "metadata": {},
   "outputs": [],
   "source": [
    "del_stmt = user.delete().where(user.c.user_name==\"someone\")"
   ]
  },
  {
   "cell_type": "code",
   "execution_count": null,
   "id": "dedicated-veteran",
   "metadata": {},
   "outputs": [],
   "source": [
    "engine.execute(del_stmt)"
   ]
  },
  {
   "cell_type": "code",
   "execution_count": null,
   "id": "painful-disco",
   "metadata": {},
   "outputs": [],
   "source": [
    "pd.read_sql(\"SELECT * FROM user\", con=constr)"
   ]
  },
  {
   "cell_type": "code",
   "execution_count": null,
   "id": "guilty-juice",
   "metadata": {},
   "outputs": [],
   "source": [
    "ff = Faker()\n",
    "rng = np.random.RandomState(742)"
   ]
  },
  {
   "cell_type": "code",
   "execution_count": null,
   "id": "geographic-permission",
   "metadata": {},
   "outputs": [],
   "source": [
    "# faker on its own is very slow\n",
    "name_selection = [ff.name() for _ in range(3000)]\n",
    "email_selection = [ff.email() for _ in range(3000)]"
   ]
  },
  {
   "cell_type": "code",
   "execution_count": null,
   "id": "enclosed-washington",
   "metadata": {},
   "outputs": [],
   "source": [
    "exp = 6\n",
    "n = 10 ** exp\n",
    "user_df = pd.DataFrame(\n",
    "    {\n",
    "        0: range(n),\n",
    "        1: rng.choice(name_selection, n),\n",
    "        2: rng.choice(email_selection, n),\n",
    "        3: rng.normal(165, 10, n),\n",
    "        4: rng.choice([\"A\", \"B\", \"AB\", \"0\"], n),\n",
    "    }\n",
    ")"
   ]
  },
  {
   "cell_type": "code",
   "execution_count": null,
   "id": "convertible-zealand",
   "metadata": {},
   "outputs": [],
   "source": [
    "user_df"
   ]
  },
  {
   "cell_type": "code",
   "execution_count": null,
   "id": "outside-powder",
   "metadata": {},
   "outputs": [],
   "source": [
    "value_list = [*user_df.itertuples(name=None, index=False)]"
   ]
  },
  {
   "cell_type": "code",
   "execution_count": null,
   "id": "parallel-criticism",
   "metadata": {},
   "outputs": [],
   "source": [
    "value_list[:3]"
   ]
  },
  {
   "cell_type": "code",
   "execution_count": null,
   "id": "suburban-aspect",
   "metadata": {},
   "outputs": [],
   "source": [
    "engine.echo = False"
   ]
  },
  {
   "cell_type": "code",
   "execution_count": null,
   "id": "imperial-casino",
   "metadata": {},
   "outputs": [],
   "source": [
    "for gid, value_group in tqdm(groupby(value_list, lambda t: (t[0] // 5000))):\n",
    "    ins = user.insert(values=[*value_group])\n",
    "    engine.execute(ins)"
   ]
  },
  {
   "cell_type": "code",
   "execution_count": null,
   "id": "accepting-backing",
   "metadata": {},
   "outputs": [],
   "source": [
    "%%time\n",
    "pd.read_sql(\"SELECT * FROM user\", con=constr)"
   ]
  },
  {
   "cell_type": "code",
   "execution_count": null,
   "id": "satisfied-coalition",
   "metadata": {},
   "outputs": [],
   "source": [
    "(user_df.to_numpy() == pd.read_sql(\"SELECT * FROM user\", con=constr).to_numpy()).all()"
   ]
  },
  {
   "cell_type": "code",
   "execution_count": null,
   "id": "respected-sentence",
   "metadata": {},
   "outputs": [],
   "source": [
    "%%time\n",
    "pd.read_sql(\"SELECT * FROM user WHERE height > 160 AND blood_type != 'B'\", con=constr)"
   ]
  },
  {
   "cell_type": "code",
   "execution_count": null,
   "id": "portable-creek",
   "metadata": {},
   "outputs": [],
   "source": [
    "db2_file = Path(\"db2.sqlite\")\n",
    "db2_file.unlink(missing_ok=True)"
   ]
  },
  {
   "cell_type": "code",
   "execution_count": null,
   "id": "mature-liberty",
   "metadata": {},
   "outputs": [],
   "source": [
    "constr2 = f\"sqlite:///{db2_file}\"\n",
    "engine2 = sa.create_engine(constr2)\n",
    "metadata_obj2 = sa.MetaData()"
   ]
  },
  {
   "cell_type": "code",
   "execution_count": null,
   "id": "spectacular-constitution",
   "metadata": {},
   "outputs": [],
   "source": [
    "user_indexed = sa.Table(\n",
    "    \"user\",\n",
    "    metadata_obj2,\n",
    "    sa.Column(\"user_id\", sa.Integer, primary_key=True),\n",
    "    sa.Column(\"user_name\", sa.String(16), nullable=False),\n",
    "    sa.Column(\"email_address\", sa.String(60)),\n",
    "    sa.Column(\"height\", sa.Float),\n",
    "    sa.Column(\"blood_type\", sa.String(2)),\n",
    "    sa.Index(\"findex\", \"height\", \"blood_type\")\n",
    ")"
   ]
  },
  {
   "cell_type": "code",
   "execution_count": null,
   "id": "twenty-canada",
   "metadata": {},
   "outputs": [],
   "source": [
    "metadata_obj2.create_all(engine2)"
   ]
  },
  {
   "cell_type": "code",
   "execution_count": null,
   "id": "emotional-recruitment",
   "metadata": {},
   "outputs": [],
   "source": [
    "for gid, value_group in tqdm(groupby(value_list, lambda t: (t[0] // 5000))):\n",
    "    ins = user_indexed.insert(values=[*value_group])\n",
    "    engine2.execute(ins)"
   ]
  },
  {
   "cell_type": "code",
   "execution_count": null,
   "id": "fatty-subject",
   "metadata": {},
   "outputs": [],
   "source": [
    "%%time\n",
    "pd.read_sql(\"SELECT * FROM user\", con=constr2)"
   ]
  },
  {
   "cell_type": "code",
   "execution_count": null,
   "id": "yellow-clear",
   "metadata": {},
   "outputs": [],
   "source": [
    "%%time\n",
    "pd.read_sql(\"SELECT * FROM user WHERE height > 160 AND blood_type != 'B'\", con=constr2)"
   ]
  },
  {
   "cell_type": "code",
   "execution_count": null,
   "id": "electric-zimbabwe",
   "metadata": {},
   "outputs": [],
   "source": [
    "filters = [\n",
    "    \"height > 160 AND blood_type < 'B'\",\n",
    "    \"height > 180 AND blood_type == 'A'\",\n",
    "    \"height < 140 AND blood_type < 'A'\",\n",
    "    \"height > 175 AND blood_type != 'A' AND height < 183 AND blood_type != 'AB'\",\n",
    "]\n",
    "\n",
    "recs = []\n",
    "for _filt in filters:\n",
    "\n",
    "    stmt = f\"SELECT * FROM user WHERE {_filt}\"\n",
    "\n",
    "    rec = {\"filstr\": _filt}\n",
    "\n",
    "    for _con, name in [(constr, \"regular\"), (constr2, \"indexed\")]:\n",
    "        stime = time()\n",
    "        _df = pd.read_sql(stmt, con=_con)\n",
    "        rec[name] = time() - stime\n",
    "    rec[\"size\"] = _df.shape[0]\n",
    "\n",
    "    recs.append(rec)"
   ]
  },
  {
   "cell_type": "code",
   "execution_count": null,
   "id": "developing-fighter",
   "metadata": {},
   "outputs": [],
   "source": [
    "pd.DataFrame(recs).assign(rate=lambda df: df[\"regular\"] / df[\"indexed\"])"
   ]
  },
  {
   "cell_type": "code",
   "execution_count": null,
   "id": "tired-sweden",
   "metadata": {},
   "outputs": [],
   "source": [
    "# in MB\n",
    "db_file.stat().st_size / 2 ** 20"
   ]
  },
  {
   "cell_type": "code",
   "execution_count": null,
   "id": "physical-cooler",
   "metadata": {},
   "outputs": [],
   "source": [
    "db2_file.stat().st_size / 2 ** 20"
   ]
  }
 ],
 "metadata": {
  "kernelspec": {
   "display_name": "Python 3",
   "language": "python",
   "name": "python3"
  },
  "language_info": {
   "codemirror_mode": {
    "name": "ipython",
    "version": 3
   },
   "file_extension": ".py",
   "mimetype": "text/x-python",
   "name": "python",
   "nbconvert_exporter": "python",
   "pygments_lexer": "ipython3",
   "version": "3.8.10"
  }
 },
 "nbformat": 4,
 "nbformat_minor": 5
}
